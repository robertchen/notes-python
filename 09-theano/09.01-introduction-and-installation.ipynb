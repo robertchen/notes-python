{
 "cells": [
  {
   "cell_type": "markdown",
   "metadata": {},
   "source": [
    "# Theano 简介及其安装"
   ]
  },
  {
   "cell_type": "markdown",
   "metadata": {},
   "source": [
    "# 简介"
   ]
  },
  {
   "cell_type": "markdown",
   "metadata": {},
   "source": [
    "`Theano` 是一个 `Python` 科学计算库，允许我们进行符号运算，并在 `CPU` 和 `GPU` 上执行。\n",
    "\n",
    "它最初由 `Montreal` 大学的机器学习研究者们所开发，用来进行机器学习的计算。\n",
    "\n",
    "按照[官网](http://deeplearning.net/software/theano/)上的说明，它拥有以下几个方面的特点：\n",
    "\n",
    "- 与 **Numpy, Scipy** 的紧密结合\n",
    "- **GPU** 加速\n",
    "- 高效的符号计算\n",
    "- 速度和稳定性\n",
    "- 动态生成 **C** 代码"
   ]
  },
  {
   "cell_type": "markdown",
   "metadata": {},
   "source": [
    "## 使用 anaconda 安装 theano"
   ]
  },
  {
   "cell_type": "markdown",
   "metadata": {},
   "source": [
    "`windows` 下，使用 `anaconda` 安装 `theano` 的命令为：\n",
    "\n",
    "    conda install mingw libpython\n",
    "    pip install theano\n",
    "    \n",
    "`linux` 下，使用 `anaconda` 安装的命令为\n",
    "    \n",
    "    conda install theano\n",
    "\n",
    "安装好之后，还需要安装 `Cuda` 并进行 `GPU` 环境的配置，否则是不能利用 `GPU` 进行计算的，推荐使用 `linux/mac` 进行配置，具体方法可以参考[官网](http://deeplearning.net/software/theano/)上的配置说明。\n",
    "\n",
    "查看安装的版本："
   ]
  },
  {
   "cell_type": "code",
   "execution_count": 2,
   "metadata": {
    "scrolled": true
   },
   "outputs": [
    {
     "data": {
      "text/plain": [
       "'0.9.0.dev-c697eeab84e5b8a74908da654b66ec9eca4f1291'"
      ]
     },
     "execution_count": 2,
     "metadata": {},
     "output_type": "execute_result"
    }
   ],
   "source": [
    "import theano\n",
    "\n",
    "theano.__version__"
   ]
  },
  {
   "cell_type": "markdown",
   "metadata": {},
   "source": [
    "查看当前使用的 device："
   ]
  },
  {
   "cell_type": "code",
   "execution_count": 3,
   "metadata": {},
   "outputs": [
    {
     "data": {
      "text/plain": [
       "'cpu'"
      ]
     },
     "execution_count": 3,
     "metadata": {},
     "output_type": "execute_result"
    }
   ],
   "source": [
    "theano.config.device"
   ]
  },
  {
   "cell_type": "markdown",
   "metadata": {},
   "source": [
    "运行测试："
   ]
  },
  {
   "cell_type": "code",
   "execution_count": null,
   "metadata": {},
   "outputs": [
    {
     "name": "stdout",
     "output_type": "stream",
     "text": [
      "Theano version 0.9.0.dev-c697eeab84e5b8a74908da654b66ec9eca4f1291\n",
      "theano is installed in C:\\ProgramData\\Anaconda3\\lib\\site-packages\\theano\n",
      "NumPy version 1.12.1\n",
      "NumPy relaxed strides checking option: True\n",
      "NumPy is installed in C:\\ProgramData\\Anaconda3\\lib\\site-packages\\numpy\n",
      "Python version 3.6.1 |Anaconda 4.4.0 (32-bit)| (default, May 11 2017, 14:16:49) [MSC v.1900 32 bit (Intel)]\n",
      "nose version 1.3.7\n"
     ]
    },
    {
     "name": "stderr",
     "output_type": "stream",
     "text": [
      "C:\\ProgramData\\Anaconda3\\lib\\site-packages\\theano\\misc\\pycuda_init.py:35: UserWarning: PyCUDA import failed in theano.misc.pycuda_init\n",
      "  warnings.warn(\"PyCUDA import failed in theano.misc.pycuda_init\")\n",
      "C:\\ProgramData\\Anaconda3\\lib\\site-packages\\theano\\sandbox\\gpuarray\\__init__.py:10: UserWarning: theano.sandbox.gpuarray has been moved to theano.gpuarray. Please update your code and pickles. If the warning persists, clear theano's cache ('$theano/bin/theano-cache clear').\n",
      "  warnings.warn(message)\n",
      "EE...........E.........C:\\ProgramData\\Anaconda3\\lib\\site-packages\\theano\\compile\\nanguardmode.py:168: RuntimeWarning: All-NaN slice encountered\n",
      "  return np.isinf(np.nanmax(arr)) or np.isinf(np.nanmin(arr))\n",
      "C:\\ProgramData\\Anaconda3\\lib\\site-packages\\theano\\compile\\nanguardmode.py:168: RuntimeWarning: All-NaN axis encountered\n",
      "  return np.isinf(np.nanmax(arr)) or np.isinf(np.nanmin(arr))\n",
      ".E........................................C:\\ProgramData\\Anaconda3\\lib\\site-packages\\theano\\gof\\vm.py:851: UserWarning: CVM does not support memory profile, using Stack VM.\n",
      "  'CVM does not support memory profile, using Stack VM.')\n",
      ".C:\\ProgramData\\Anaconda3\\lib\\site-packages\\theano\\gof\\vm.py:851: UserWarning: CVM does not support memory profile, using Stack VM.\n",
      "  'CVM does not support memory profile, using Stack VM.')\n",
      "..........SS.........................................................."
     ]
    }
   ],
   "source": [
    "theano.test()"
   ]
  },
  {
   "cell_type": "markdown",
   "metadata": {},
   "source": [
    "这里我已经在本地 `Windows` 配好了 `GPU` 的设置，如果没有配好，显示的结果可能不一样。\n",
    "\n",
    "`Windows` 下第一次运行可能会显示 `DEBUG: nvcc STDOUT` 等内容，**`Just ignore it!`**"
   ]
  }
 ],
 "metadata": {
  "kernelspec": {
   "display_name": "Python 3",
   "language": "python",
   "name": "python3"
  },
  "language_info": {
   "codemirror_mode": {
    "name": "ipython",
    "version": 3
   },
   "file_extension": ".py",
   "mimetype": "text/x-python",
   "name": "python",
   "nbconvert_exporter": "python",
   "pygments_lexer": "ipython3",
   "version": "3.6.1"
  },
  "toc": {
   "colors": {
    "hover_highlight": "#DAA520",
    "navigate_num": "#000000",
    "navigate_text": "#333333",
    "running_highlight": "#FF0000",
    "selected_highlight": "#FFD700",
    "sidebar_border": "#EEEEEE",
    "wrapper_background": "#FFFFFF"
   },
   "moveMenuLeft": true,
   "nav_menu": {
    "height": "66px",
    "width": "252px"
   },
   "navigate_menu": true,
   "number_sections": true,
   "sideBar": true,
   "threshold": 4,
   "toc_cell": false,
   "toc_section_display": "block",
   "toc_window_display": false,
   "widenNotebook": false
  }
 },
 "nbformat": 4,
 "nbformat_minor": 1
}
